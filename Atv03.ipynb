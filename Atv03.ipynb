{
 "cells": [
  {
   "cell_type": "markdown",
   "id": "c0f51e2e-83d7-4cbe-bbba-c0ae8807b7ca",
   "metadata": {},
   "source": [
    "# Exercício 01\n",
    "\n",
    "<p style=\"text-align:justify;\">\n",
    "Faça uma classe em Java que percorra todos os número de 1 até 100. Para os números múltiplos de 4, exiba a palavra “PIN”, e para os outros, exiba o próprio número. Veja o exemplo abaixo:\n",
    "\n",
    "1 \n",
    "2 \n",
    "3\n",
    "PIN\n",
    "5 \n",
    "6 \n",
    "7\n",
    "PIN\n",
    "</p>"
   ]
  },
  {
   "cell_type": "code",
   "execution_count": 1,
   "id": "702f548b-53d3-4cb5-9a1b-1904edf8031e",
   "metadata": {
    "tags": []
   },
   "outputs": [
    {
     "name": "stdout",
     "output_type": "stream",
     "text": [
      "1 2 3 PIN 5 6 7 PIN 9 10 11 PIN 13 14 15 PIN 17 18 19 PIN 21 22 23 PIN 25 26 27 PIN 29 30 31 PIN 33 34 35 PIN 37 38 39 PIN 41 42 43 PIN 45 46 47 PIN 49 50 51 PIN 53 54 55 PIN 57 58 59 PIN 61 62 63 PIN 65 66 67 PIN 69 70 71 PIN 73 74 75 PIN 77 78 79 PIN 81 82 83 PIN 85 86 87 PIN 89 90 91 PIN 93 94 95 PIN 97 98 99 PIN "
     ]
    },
    {
     "data": {
      "text/plain": [
       "null"
      ]
     },
     "execution_count": 1,
     "metadata": {},
     "output_type": "execute_result"
    }
   ],
   "source": [
    "//public class Atv03{\n",
    "    //public static void main (String args[]){\n",
    "        for(int i=1; i<=100; i++) {\n",
    "            if(i%4==0){\n",
    "                System.out.printf(\"PIN \");\n",
    "            } else {\n",
    "                System.out.printf(\"%d \", i);\n",
    "            }\n",
    "        }\n",
    "    //}\n",
    "//}"
   ]
  },
  {
   "cell_type": "markdown",
   "id": "127805f9-61ad-4f87-81d5-09d68ad567e5",
   "metadata": {},
   "source": [
    "# Exercício 02\n",
    "\n",
    "<p style=\"text-align:justify;\">\n",
    "Os números de Fibonacci são uma sequência de números definida recursivamente. O primeiro elemento da sequência é 0 e o segundo é 1. Os outros elementos são calculados somando os dois antecessores.\n",
    "\n",
    "0, 1, 1, 2, 3, 5, 8, 13, 21, 34, 55, 89, 144, 233...\n",
    "\n",
    "Crie uma classe em Java para exibir os 30 primeiros números da sequência de Fibonacci. Adicione uma classe chamada Fibonacci.\n",
    "\n",
    "</p>"
   ]
  },
  {
   "cell_type": "code",
   "execution_count": 13,
   "id": "e2dde981-aa9f-450a-9969-0e95d6851014",
   "metadata": {
    "tags": []
   },
   "outputs": [
    {
     "name": "stdout",
     "output_type": "stream",
     "text": [
      "Os primeiros 30 números da sequência de Fibonacci são: \n",
      "0 1 1 2 3 5 8 13 21 34 55 89 144 233 377 610 987 1597 2584 4181 6765 10946 17711 28657 46368 75025 121393 196418 317811 514229 "
     ]
    },
    {
     "data": {
      "text/plain": [
       "null"
      ]
     },
     "execution_count": 13,
     "metadata": {},
     "output_type": "execute_result"
    }
   ],
   "source": [
    "//public class Fibonacci {\n",
    "    //public static void main(String[] args) {\n",
    "        int n = 30;\n",
    "        int a = 0;\n",
    "        int b = 1;\n",
    "        \n",
    "        System.out.printf(\"Os primeiros %d números da sequência de Fibonacci são: \\n\", n);\n",
    "        System.out.printf(\"%d %d \", a, b);\n",
    "\n",
    "        for (int i = 2; i < n; i++) {\n",
    "            int c = a + b;\n",
    "            System.out.printf(\"%d \", c);\n",
    "            a = b;\n",
    "            b = c;\n",
    "        }\n",
    "    //}\n",
    "//}"
   ]
  },
  {
   "cell_type": "markdown",
   "id": "0a603b13-c1e7-4f32-9433-e1616774cffd",
   "metadata": {},
   "source": [
    "# Exercício 03\n",
    "\n",
    "<p style=\"text-align:justify;\">\n",
    "Faça uma classe em Java que fique em laço solicitando a digitação de números inteiros maiores ou iguais a zero. Quando o usuário digitar um número menor que zero, o programa deve exibir a quantidade de números digitados e a média desses números.\n",
    "\n",
    "</p>"
   ]
  },
  {
   "cell_type": "code",
   "execution_count": 12,
   "id": "2ff9061a-d771-4aab-a5f4-3a24bcc65a0c",
   "metadata": {
    "tags": []
   },
   "outputs": [
    {
     "name": "stdout",
     "output_type": "stream",
     "text": [
      "Digite números inteiros maiores ou iguais a zero. Digite um número negativo para encerrar.\n",
      "Digite um número: "
     ]
    },
    {
     "name": "stdin",
     "output_type": "stream",
     "text": [
      " 5\n"
     ]
    },
    {
     "name": "stdout",
     "output_type": "stream",
     "text": [
      "Digite um número: "
     ]
    },
    {
     "name": "stdin",
     "output_type": "stream",
     "text": [
      " 6\n"
     ]
    },
    {
     "name": "stdout",
     "output_type": "stream",
     "text": [
      "Digite um número: "
     ]
    },
    {
     "name": "stdin",
     "output_type": "stream",
     "text": [
      " 7\n"
     ]
    },
    {
     "name": "stdout",
     "output_type": "stream",
     "text": [
      "Digite um número: "
     ]
    },
    {
     "name": "stdin",
     "output_type": "stream",
     "text": [
      " 8\n"
     ]
    },
    {
     "name": "stdout",
     "output_type": "stream",
     "text": [
      "Digite um número: "
     ]
    },
    {
     "name": "stdin",
     "output_type": "stream",
     "text": [
      " -1\n"
     ]
    },
    {
     "name": "stdout",
     "output_type": "stream",
     "text": [
      "Quantidade de números digitados: 4 \n",
      "Média dos números digitados: 6.50"
     ]
    },
    {
     "data": {
      "text/plain": [
       "null"
      ]
     },
     "execution_count": 12,
     "metadata": {},
     "output_type": "execute_result"
    }
   ],
   "source": [
    "import java.util.Scanner;\n",
    "\n",
    "//public class Atv03 {\n",
    "    //public static void main(String[] args) {\n",
    "        Scanner entrada = new Scanner(System.in);\n",
    "        int soma = 0;\n",
    "        int quantidade = 0;\n",
    "        float media;\n",
    "\n",
    "        System.out.println(\"Digite números inteiros maiores ou iguais a zero. Digite um número negativo para encerrar.\");\n",
    "\n",
    "        while (true) {\n",
    "            System.out.print(\"Digite um número: \");\n",
    "            int n = entrada.nextInt();\n",
    "\n",
    "            if (n < 0) {\n",
    "                break;\n",
    "            }\n",
    "\n",
    "            soma += n;\n",
    "            quantidade++;\n",
    "        }\n",
    "\n",
    "        entrada.close();\n",
    "\n",
    "        if (quantidade > 0) {\n",
    "            media = (float) soma / quantidade;\n",
    "            System.out.printf(\"Quantidade de números digitados: %d \\n\", quantidade);\n",
    "            System.out.printf(\"Média dos números digitados: %.2f\", media);\n",
    "        } else {\n",
    "            System.out.println(\"Nenhum número foi digitado.\");\n",
    "        }\n",
    "    //}\n",
    "//}"
   ]
  },
  {
   "cell_type": "markdown",
   "id": "51f836fa-fe0a-4ef1-b0dd-61d4f991ee01",
   "metadata": {},
   "source": [
    "# Exercício 04\n",
    "\n",
    "<p style=\"text-align:justify;\">\n",
    "Crie uma classe em Java para realizar cada uma das seguintes tarefas:\n",
    "\n",
    "a) Some os inteiros ímpares entre 1 e 99 utilizando uma instrução for. Assuma que as variáveis de inteiro sum e count foram declaradas.\n",
    "\n",
    "b) Calcule o valor de 2.5 elevado à potência de 3, utilizando o método pow da classe Math.\n",
    "\n",
    "c) Imprima os inteiros de 1 a 20, utilizando um loop while e a variável contadora i. Assuma que a variável i foi declarada, mas não foi inicializada. Imprima apenas cinco inteiros por linha. \n",
    "\n",
    "[Dica: utilize o cálculo i % 5. Quando o valor dessa expressão for 0, imprima um caractere de nova linha; caso contrário, imprima um caractere de tabulação. Assuma que esse código é um aplicativo. Utilize o método System.out.println () para imprimir o caractere de nova linha, e utilize o método System.out.print ('\\t') para\n",
    "imprimir o caractere de tabulação.]\n",
    "</p>"
   ]
  },
  {
   "cell_type": "code",
   "execution_count": 21,
   "id": "eba746fd-fd58-4470-8384-579dc83d83ad",
   "metadata": {
    "tags": []
   },
   "outputs": [
    {
     "name": "stdout",
     "output_type": "stream",
     "text": [
      "A soma dos inteiros ímpares entre 1 e 99 é: 2500 \n",
      "O resultado de 2.5 elevado à potência de 3 é: 15.625 \n",
      "Impressão dos inteiros de 1 a 20:\n",
      "\t1 \t2 \t3 \t4 \n",
      "\t6 \t7 \t8 \t9 \n",
      "\t11 \t12 \t13 \t14 \n",
      "\t16 \t17 \t18 \t19 \n"
     ]
    },
    {
     "data": {
      "text/plain": [
       "null"
      ]
     },
     "execution_count": 21,
     "metadata": {},
     "output_type": "execute_result"
    }
   ],
   "source": [
    "//public class Atv03 {\n",
    "    //public static void main(String[] args) {\n",
    "\n",
    "        // a)\n",
    "        int sum = 0;\n",
    "        int count = 0;\n",
    "        for (int i = 1; i <= 99; i ++) {\n",
    "            if(i%2!=0){\n",
    "                sum += i;\n",
    "            }    \n",
    "            count++;\n",
    "        }\n",
    "        System.out.printf(\"A soma dos inteiros ímpares entre 1 e 99 é: %d \\n\", sum);\n",
    "\n",
    "        // b)\n",
    "        float valor = (float) Math.pow(2.5, 3);\n",
    "        System.out.printf(\"O resultado de 2.5 elevado à potência de 3 é: %.3f \\n\", valor);\n",
    "\n",
    "        // c)\n",
    "        System.out.println(\"Impressão dos inteiros de 1 a 20:\");\n",
    "        int i = 1;\n",
    "\n",
    "        while (i <= 20) {          \n",
    "            if (i % 5 == 0) {\n",
    "                System.out.println();\n",
    "            } else {\n",
    "                System.out.print('\\t');\n",
    "                System.out.printf(\"%d \", i);\n",
    "            }\n",
    "                             \n",
    "            i++;\n",
    "        }\n",
    "\n",
    "    //}\n",
    "//}"
   ]
  },
  {
   "cell_type": "markdown",
   "id": "7ede01a3-1eae-4d06-a9f3-101905f8ed17",
   "metadata": {},
   "source": [
    "# Exercício 05\n",
    "\n",
    "<p style=\"text-align:justify;\">\n",
    "Repita a parte (c) do exercício anterior utilizando uma instrução for.\n",
    "\n",
    "</p>"
   ]
  },
  {
   "cell_type": "code",
   "execution_count": 22,
   "id": "3e14e693-06c6-4522-90fd-77e69ddbe776",
   "metadata": {
    "tags": []
   },
   "outputs": [
    {
     "name": "stdout",
     "output_type": "stream",
     "text": [
      "Impressão dos inteiros de 1 a 20:\n",
      "\t1 \t2 \t3 \t4 \n",
      "\t6 \t7 \t8 \t9 \n",
      "\t11 \t12 \t13 \t14 \n",
      "\t16 \t17 \t18 \t19 \n"
     ]
    },
    {
     "data": {
      "text/plain": [
       "null"
      ]
     },
     "execution_count": 22,
     "metadata": {},
     "output_type": "execute_result"
    }
   ],
   "source": [
    "//public class Atv03 {\n",
    "    //public static void main(String[] args) {\n",
    "        System.out.println(\"Impressão dos inteiros de 1 a 20:\");\n",
    "        \n",
    "        for (int i = 1; i <= 20; i++) {\n",
    "            if (i % 5 == 0) {\n",
    "                System.out.println();\n",
    "            } else {\n",
    "                System.out.print('\\t');\n",
    "                System.out.printf(\"%d \", i);\n",
    "            }\n",
    "        }\n",
    "\n",
    "    //}\n",
    "//}"
   ]
  },
  {
   "cell_type": "code",
   "execution_count": null,
   "id": "2c8b377c-3ee8-457f-9b76-cd3caece25b4",
   "metadata": {},
   "outputs": [],
   "source": []
  }
 ],
 "metadata": {
  "kernelspec": {
   "display_name": "Java",
   "language": "java",
   "name": "java"
  },
  "language_info": {
   "codemirror_mode": "text/x-java",
   "file_extension": ".java",
   "mimetype": "",
   "name": "Java",
   "nbconverter_exporter": "",
   "version": "1.8.0_121"
  }
 },
 "nbformat": 4,
 "nbformat_minor": 5
}
