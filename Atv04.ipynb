{
 "cells": [
  {
   "cell_type": "markdown",
   "id": "c7ee3289-9b4f-4614-be87-f28d14196dc5",
   "metadata": {},
   "source": [
    "# Exercício 01\n",
    "<p style=\"text-align:justify;\">\n",
    "Crie um programa que armazene um vetor com as notas de dez alunos, calcule e imprima a média dessas notas e depois informe a quantidade de notas acima e abaixo da média calculada.\n",
    "</p>"
   ]
  },
  {
   "cell_type": "code",
   "execution_count": 6,
   "id": "ff67e1a8-6e02-4bc6-b061-51aaed7c7caa",
   "metadata": {
    "tags": []
   },
   "outputs": [
    {
     "name": "stdout",
     "output_type": "stream",
     "text": [
      "A média total das notas é: 6.05 \n",
      "Abaixo da média total: 5 \n",
      "Acima da média total: 5\n"
     ]
    },
    {
     "data": {
      "text/plain": [
       "null"
      ]
     },
     "execution_count": 6,
     "metadata": {},
     "output_type": "execute_result"
    }
   ],
   "source": [
    "//public class Atv04{\n",
    "    //public static void main (String args[]){\n",
    "        float[] vetorNotas = {1.0f, 3.5f, 7.0f, 9.0f, 5.5f, 9.8f, 4.7f, 8.0f, 2.0f, 10.0f};\n",
    "        int acima=0, abaixo=0;\n",
    "        double soma=0, media;\n",
    "\n",
    "        for(int i=0; i<vetorNotas.length; i++) {\n",
    "            soma += vetorNotas[i];        \n",
    "        }\n",
    "\n",
    "        media = soma / vetorNotas.length;\n",
    "\n",
    "        for(int j=0; j<vetorNotas.length; j++) {\n",
    "            if(vetorNotas[j] >= media) {\n",
    "                acima++;\n",
    "            } else {\n",
    "                abaixo++;\n",
    "            }      \n",
    "        }\n",
    "\n",
    "        System.out.printf(\"A média total das notas é: %.2f \\nAbaixo da média total: %d \\nAcima da média total: %d\\n\", media, abaixo, acima);\n",
    "    //}\n",
    "//}"
   ]
  },
  {
   "cell_type": "markdown",
   "id": "f55a5fce-412b-40a9-abcb-008951e349ae",
   "metadata": {
    "tags": []
   },
   "source": [
    "# Exercício 02\n",
    "<p style=\"text-align:justify;\">\n",
    "Construa uma classe em Java que seja capaz de efetuar a leitura de uma matriz de valores reais de tamanho 3 x 3, calculando seu determinante.\n",
    "</p>"
   ]
  },
  {
   "cell_type": "code",
   "execution_count": 5,
   "id": "f3140b7a-9ec1-4421-8c76-38520f87d539",
   "metadata": {
    "tags": []
   },
   "outputs": [
    {
     "name": "stdout",
     "output_type": "stream",
     "text": [
      "Digite o elemento [1] [1]: \n"
     ]
    },
    {
     "name": "stdin",
     "output_type": "stream",
     "text": [
      " 10\n"
     ]
    },
    {
     "name": "stdout",
     "output_type": "stream",
     "text": [
      "Digite o elemento [1] [2]: \n"
     ]
    },
    {
     "name": "stdin",
     "output_type": "stream",
     "text": [
      " 9\n"
     ]
    },
    {
     "name": "stdout",
     "output_type": "stream",
     "text": [
      "Digite o elemento [1] [3]: \n"
     ]
    },
    {
     "name": "stdin",
     "output_type": "stream",
     "text": [
      " 8\n"
     ]
    },
    {
     "name": "stdout",
     "output_type": "stream",
     "text": [
      "Digite o elemento [2] [1]: \n"
     ]
    },
    {
     "name": "stdin",
     "output_type": "stream",
     "text": [
      " 7\n"
     ]
    },
    {
     "name": "stdout",
     "output_type": "stream",
     "text": [
      "Digite o elemento [2] [2]: \n"
     ]
    },
    {
     "name": "stdin",
     "output_type": "stream",
     "text": [
      " 5\n"
     ]
    },
    {
     "name": "stdout",
     "output_type": "stream",
     "text": [
      "Digite o elemento [2] [3]: \n"
     ]
    },
    {
     "name": "stdin",
     "output_type": "stream",
     "text": [
      " 4\n"
     ]
    },
    {
     "name": "stdout",
     "output_type": "stream",
     "text": [
      "Digite o elemento [3] [1]: \n"
     ]
    },
    {
     "name": "stdin",
     "output_type": "stream",
     "text": [
      " 3\n"
     ]
    },
    {
     "name": "stdout",
     "output_type": "stream",
     "text": [
      "Digite o elemento [3] [2]: \n"
     ]
    },
    {
     "name": "stdin",
     "output_type": "stream",
     "text": [
      " 2\n"
     ]
    },
    {
     "name": "stdout",
     "output_type": "stream",
     "text": [
      "Digite o elemento [3] [3]: \n"
     ]
    },
    {
     "name": "stdin",
     "output_type": "stream",
     "text": [
      " 1\n"
     ]
    },
    {
     "name": "stdout",
     "output_type": "stream",
     "text": [
      "O determinante da matriz é: 7.0\n"
     ]
    },
    {
     "data": {
      "text/plain": [
       "null"
      ]
     },
     "execution_count": 5,
     "metadata": {},
     "output_type": "execute_result"
    }
   ],
   "source": [
    "import java.util.Scanner;\n",
    "\n",
    "//public class Atv04 {\n",
    "    //public static void main(String[] args) {\n",
    "        Scanner entrada = new Scanner(System.in);\n",
    "        float[][] matriz = new float[3][3];\n",
    "        float determinante;\n",
    "\n",
    "        for (int i = 0; i < matriz.length; i++) {\n",
    "            for (int j = 0; j < matriz.length; j++) {\n",
    "                System.out.printf(\"Digite o elemento [%d] [%d]: \\n\", i+1, j+1);\n",
    "                matriz[i][j] = entrada.nextFloat();\n",
    "            }\n",
    "        }\n",
    "\n",
    "        entrada.close();\n",
    "\n",
    "        determinante = matriz[0][0] * (matriz[1][1] * matriz[2][2] - matriz[1][2] * matriz[2][1])\n",
    "                - matriz[0][1] * (matriz[1][0] * matriz[2][2] - matriz[1][2] * matriz[2][0])\n",
    "                + matriz[0][2] * (matriz[1][0] * matriz[2][1] - matriz[1][1] * matriz[2][0]);\n",
    "        System.out.println(\"O determinante da matriz é: \" + determinante);\n",
    "        \n",
    "    //}\n",
    "//}"
   ]
  },
  {
   "cell_type": "markdown",
   "id": "7b9c1eef-464a-475c-b264-819c862a09bb",
   "metadata": {},
   "source": [
    "# Exercício 03\n",
    "<p style=\"text-align:justify;\">\n",
    "Faça uma classe contendo dois arrays do tipo inteiro, um chamado par e outro chamado ímpar. Cada array deve conter 10 elementos. A seguir, faça um laço de repetição com 10 iterações e que contenha internamente a geração randômica de números entre 1 e 20. Se o valor gerado for par, armazene no array chamado par, caso contrário, no array chamado impar. Ao final, apresente o conteúdo de cada um dos arrays.\n",
    "</p>"
   ]
  },
  {
   "cell_type": "code",
   "execution_count": 1,
   "id": "fe785da1-2ff1-4bd7-ab26-b007dcf05fc1",
   "metadata": {
    "tags": []
   },
   "outputs": [
    {
     "name": "stdout",
     "output_type": "stream",
     "text": [
      "Números pares:\n",
      "20 14 14 6 2 \n",
      "Números ímpares:\n",
      "11 15 3 13 1 "
     ]
    },
    {
     "data": {
      "text/plain": [
       "null"
      ]
     },
     "execution_count": 1,
     "metadata": {},
     "output_type": "execute_result"
    }
   ],
   "source": [
    "import java.util.Random;\n",
    "\n",
    "//public class Atv04 {\n",
    "    //public static void main(String[] args) {\n",
    "\n",
    "        int[] par = new int[10];\n",
    "        int[] impar = new int[10];\n",
    "        int contadorPar = 0;\n",
    "        int contadorImpar = 0;\n",
    "\n",
    "        Random rand = new Random();\n",
    "\n",
    "        for (int i = 0; i < 10; i++) {\n",
    "            int numero = rand.nextInt(20)+1;\n",
    "            \n",
    "            if (numero % 2 == 0) {\n",
    "                par[contadorPar] = numero;\n",
    "                contadorPar++;\n",
    "            } else {\n",
    "                impar[contadorImpar] = numero;\n",
    "                contadorImpar++;\n",
    "            }\n",
    "        }\n",
    "\n",
    "        System.out.println(\"Números pares:\");\n",
    "        for (int i = 0; i < contadorPar; i++) {\n",
    "            System.out.printf(\"%d \", par[i]);\n",
    "        }\n",
    "\n",
    "        System.out.println(\"\\nNúmeros ímpares:\");\n",
    "        for (int i = 0; i < contadorImpar; i++) {\n",
    "            System.out.printf(\"%d \", impar[i]);\n",
    "        }\n",
    "        \n",
    "    //}\n",
    "//}"
   ]
  },
  {
   "cell_type": "markdown",
   "id": "d062d462-4a98-4e65-8f3b-fe9c1a8e677e",
   "metadata": {},
   "source": [
    "# Exercício 04\n",
    "<p style=\"text-align:justify;\">\n",
    "Usando um array unidimensional de 10 elementos do tipo String, faça uma classe que simule a ocupação de um estacionamento de veículos. Considere que a posição do array corresponde ao número da vaga e para cada vaga é armazenada a placa do veículo que está estacionado. Sua classe deve conter um laço de repetição simulando um menu que controle a entrada e a saída dos veículos com as opções: 1-Entrada, 2-Saída e 3-Listar situação atual e 4-Encerrar o programa. Se o usuário escolher 1, solicite o número da vaga e a placa do veículo; se escolher 2, solicite o número da vaga que será liberada e armazene o valor branco na posição correspondente ao array; se escolher 3, liste a situação atual apresentando em tela todos os elementos do array; quando for 4, encerre o laço e o programa.\n",
    "</p>"
   ]
  },
  {
   "cell_type": "code",
   "execution_count": 11,
   "id": "64874188-7345-4348-8a4e-e9cb50d04ab2",
   "metadata": {
    "tags": []
   },
   "outputs": [
    {
     "name": "stdout",
     "output_type": "stream",
     "text": [
      "\n",
      "Menu:\n",
      "1 - Entrada\n",
      "2 - Saída\n",
      "3 - Listar situação atual\n",
      "4 - Encerrar o programa\n",
      "Escolha uma opção: "
     ]
    },
    {
     "name": "stdin",
     "output_type": "stream",
     "text": [
      " 1\n"
     ]
    },
    {
     "name": "stdout",
     "output_type": "stream",
     "text": [
      "Digite o número da vaga: "
     ]
    },
    {
     "name": "stdin",
     "output_type": "stream",
     "text": [
      " 3\n"
     ]
    },
    {
     "name": "stdout",
     "output_type": "stream",
     "text": [
      "Digite a placa do veículo: "
     ]
    },
    {
     "name": "stdin",
     "output_type": "stream",
     "text": [
      " HCM1234\n"
     ]
    },
    {
     "name": "stdout",
     "output_type": "stream",
     "text": [
      "Veículo estacionado na vaga 3\n",
      "\n",
      "Menu:\n",
      "1 - Entrada\n",
      "2 - Saída\n",
      "3 - Listar situação atual\n",
      "4 - Encerrar o programa\n",
      "Escolha uma opção: "
     ]
    },
    {
     "name": "stdin",
     "output_type": "stream",
     "text": [
      " 3\n"
     ]
    },
    {
     "name": "stdout",
     "output_type": "stream",
     "text": [
      "\n",
      "Situação atual do estacionamento:\n",
      "Vaga 0: vazia\n",
      "Vaga 1: vazia\n",
      "Vaga 2: vazia\n",
      "Vaga 3: HCM1234\n",
      "Vaga 4: vazia\n",
      "Vaga 5: vazia\n",
      "Vaga 6: vazia\n",
      "Vaga 7: vazia\n",
      "Vaga 8: vazia\n",
      "Vaga 9: vazia\n",
      "\n",
      "Menu:\n",
      "1 - Entrada\n",
      "2 - Saída\n",
      "3 - Listar situação atual\n",
      "4 - Encerrar o programa\n",
      "Escolha uma opção: "
     ]
    },
    {
     "name": "stdin",
     "output_type": "stream",
     "text": [
      " 4\n"
     ]
    },
    {
     "data": {
      "text/plain": [
       "null"
      ]
     },
     "execution_count": 11,
     "metadata": {},
     "output_type": "execute_result"
    }
   ],
   "source": [
    "import java.util.Scanner;\n",
    "\n",
    "//public class Atv04 {\n",
    "    //public static void main(String[] args) {\n",
    "        Scanner entrada = new Scanner(System.in);\n",
    "        String[] vagas = new String[10];\n",
    "        boolean sair = true;\n",
    "        int numeroVaga;\n",
    "\n",
    "         while (sair) {\n",
    "            System.out.println(\"\\nMenu:\");\n",
    "            System.out.println(\"1 - Entrada\");\n",
    "            System.out.println(\"2 - Saída\");\n",
    "            System.out.println(\"3 - Listar situação atual\");\n",
    "            System.out.println(\"4 - Encerrar o programa\");\n",
    "            System.out.print(\"Escolha uma opção: \");\n",
    "            int opcao = entrada.nextInt();\n",
    "\n",
    "            if (opcao == 1) {\n",
    "                System.out.print(\"Digite o número da vaga: \");\n",
    "                numeroVaga = entrada.nextInt();\n",
    "                entrada.nextLine(); // Limpar o buffer de entrada\n",
    "                if (numeroVaga < vagas.length) {\n",
    "                    if (vagas[numeroVaga] == null || vagas[numeroVaga].isEmpty()) {\n",
    "                        System.out.print(\"Digite a placa do veículo: \");\n",
    "                        String placa = entrada.nextLine();\n",
    "                        vagas[numeroVaga] = placa;\n",
    "                        System.out.println(\"Veículo estacionado na vaga \" + numeroVaga);\n",
    "                    } else {\n",
    "                        System.out.println(\"Esta vaga já está ocupada.\");\n",
    "                    }\n",
    "                } else {\n",
    "                    System.out.println(\"Vaga inválida! Tente novamente.\");\n",
    "                }\n",
    "            } else if (opcao == 2) {\n",
    "                System.out.print(\"Digite o número da vaga que será liberada: \");\n",
    "                numeroVaga = entrada.nextInt();\n",
    "\n",
    "                if (numeroVaga < vagas.length) {\n",
    "                    vagas[numeroVaga] = \"\";\n",
    "                    System.out.println(\"Vaga \" + numeroVaga + \" liberada.\");\n",
    "                } else {\n",
    "                    System.out.println(\"Vaga inválida! Tente novamente.\");\n",
    "                }\n",
    "            } else if (opcao == 3) {\n",
    "                System.out.println(\"\\nSituação atual do estacionamento:\");\n",
    "\n",
    "                for (int i = 0; i < vagas.length; i++) {\n",
    "                    if (vagas[i] == null || vagas[i].isEmpty()) {\n",
    "                        System.out.println(\"Vaga \" + i + \": vazia\");\n",
    "                    } else {\n",
    "                        System.out.println(\"Vaga \" + i + \": \" + vagas[i]);\n",
    "                    }\n",
    "                }\n",
    "            } else if (opcao == 4) {\n",
    "                sair = false;\n",
    "            } else {\n",
    "                System.out.println(\"Opção inválida! Tente novamente.\");\n",
    "            }\n",
    "        }\n",
    "    //}\n",
    "//}"
   ]
  },
  {
   "cell_type": "markdown",
   "id": "c9fef6b4-44c6-468e-9384-0409416c0249",
   "metadata": {},
   "source": [
    "# Exercício 05\n",
    "<p style=\"text-align:justify;\">\n",
    "Uma imagem é formada por pixels. Considere uma imagem com dimensão de 40 x 40 e faça uma classe que contenha um array bidimensional com essas dimensões. A seguir, para cada posição\n",
    "desse array bidimensional armazene um valor aleatório entre 0 e 255 (esses valores correspondem às tonalidades aplicadas sobre a imagem). Apresente em tela os 1600 valores gerados.\n",
    "</p>"
   ]
  },
  {
   "cell_type": "code",
   "execution_count": 14,
   "id": "4147c7b9-502e-4105-953b-0ded7337f4b1",
   "metadata": {
    "tags": []
   },
   "outputs": [
    {
     "name": "stdout",
     "output_type": "stream",
     "text": [
      "Tonalidades aplicadas sobre a imagem:\n",
      "216 252 208 37 39 207 80 152 140 13 121 101 167 236 85 113 7 249 127 48 76 8 94 57 192 88 19 68 14 107 37 60 241 146 255 137 201 156 152 88 \n",
      "202 15 232 113 181 177 141 86 184 153 28 178 126 148 98 101 88 243 106 209 38 160 161 227 106 116 44 205 234 94 154 232 222 153 244 107 31 120 164 166 \n",
      "225 65 194 183 38 25 47 87 138 32 88 245 51 49 255 82 215 142 75 128 17 219 12 233 71 133 195 30 153 71 58 210 132 0 104 217 27 49 190 58 \n",
      "97 120 208 206 161 186 112 21 111 96 4 65 100 31 96 236 126 223 242 211 187 58 245 36 79 246 123 28 33 74 182 183 238 127 181 163 4 192 32 132 \n",
      "31 34 75 231 112 28 125 111 155 103 93 59 193 12 126 45 200 156 42 68 23 14 95 6 18 27 231 64 75 208 231 151 249 208 121 149 217 109 12 153 \n",
      "106 156 141 224 70 115 28 159 28 52 109 76 77 53 103 247 8 204 46 33 47 188 255 86 122 155 103 59 119 227 209 62 129 199 78 161 144 214 140 242 \n",
      "0 218 83 136 131 88 243 128 30 49 144 229 117 106 24 103 46 64 12 1 94 50 156 140 195 147 216 196 227 215 135 119 48 191 17 1 23 44 139 63 \n",
      "48 75 124 148 116 180 112 51 37 192 25 35 69 102 70 7 237 161 38 14 90 44 120 58 6 4 74 111 208 190 74 126 86 8 96 45 101 225 72 50 \n",
      "201 4 24 185 226 128 62 57 140 165 228 103 210 88 228 75 164 189 34 106 224 31 236 57 77 146 28 6 255 51 91 202 135 219 136 232 167 204 47 160 \n",
      "244 138 133 144 79 171 2 223 64 154 141 69 128 2 33 146 28 228 210 113 211 10 189 84 213 236 132 7 107 111 42 92 176 24 249 98 124 38 4 208 \n",
      "6 175 95 21 199 209 189 84 105 36 159 56 255 23 171 184 15 253 91 43 123 164 238 19 234 159 125 29 163 166 147 246 13 233 157 100 22 188 44 230 \n",
      "21 65 176 94 157 45 209 37 170 45 188 165 149 52 186 160 72 44 24 67 187 241 249 229 237 163 146 22 191 56 197 62 132 84 55 177 128 32 127 107 \n",
      "76 137 208 228 76 161 47 235 203 183 45 124 245 12 127 127 108 226 33 245 71 111 96 89 36 77 197 169 192 58 73 115 40 137 231 84 84 130 199 146 \n",
      "28 231 183 15 93 111 123 233 191 179 218 113 219 49 203 162 172 95 132 17 130 200 162 74 77 248 20 150 55 154 94 193 221 204 161 96 249 138 141 91 \n",
      "238 49 78 4 104 205 128 226 150 174 205 0 148 57 224 84 52 180 92 183 243 33 67 204 105 39 193 1 246 30 141 79 194 179 43 200 224 103 61 37 \n",
      "77 207 166 160 79 83 54 22 60 226 214 201 6 192 103 9 150 178 242 205 95 239 176 135 223 149 140 190 34 66 225 35 155 124 157 61 64 253 29 32 \n",
      "115 251 89 109 87 200 18 96 230 239 210 143 221 71 88 118 101 49 25 59 21 126 30 162 201 26 134 37 25 33 173 147 59 69 33 201 150 25 174 32 \n",
      "189 254 160 184 251 207 20 136 181 117 92 4 95 199 124 82 251 129 152 211 114 28 104 191 73 46 250 105 122 62 36 138 7 245 184 165 124 65 85 188 \n",
      "205 165 222 154 83 130 45 171 72 131 106 237 203 71 246 106 125 13 110 150 114 65 71 155 213 61 53 234 47 102 86 41 184 187 128 46 124 229 49 75 \n",
      "5 189 88 132 92 27 85 40 18 199 110 138 50 177 208 151 128 118 46 46 215 245 170 211 161 240 156 201 87 141 80 68 208 50 190 40 41 92 242 83 \n",
      "167 217 0 36 183 94 114 206 183 95 30 28 146 188 12 105 243 232 96 24 184 3 89 246 203 31 159 77 231 232 61 40 162 77 109 119 43 79 112 27 \n",
      "14 65 222 207 82 163 207 87 26 10 234 109 79 182 65 221 152 156 37 114 33 143 38 117 105 5 115 211 51 98 87 163 129 102 207 95 216 6 137 183 \n",
      "92 110 175 103 228 241 136 223 142 134 134 158 46 138 15 108 252 0 241 182 43 42 56 84 117 9 155 235 187 223 110 164 73 1 148 208 173 60 116 150 \n",
      "158 31 200 166 105 252 172 15 92 239 153 39 196 128 254 156 177 87 28 186 250 76 217 98 69 66 84 24 88 184 157 23 122 3 232 196 55 19 92 190 \n",
      "84 191 39 6 145 72 81 223 202 240 227 228 145 221 136 234 168 44 163 16 54 239 69 183 117 220 226 243 83 58 103 91 27 126 141 193 249 235 138 42 \n",
      "145 105 220 10 160 75 8 80 1 188 144 68 26 155 10 77 148 87 21 160 231 216 180 144 72 45 172 250 22 7 55 162 243 91 156 156 142 237 212 132 \n",
      "228 165 168 134 83 222 95 111 97 225 144 39 232 52 115 179 166 238 8 154 245 210 178 52 214 114 196 38 198 152 163 244 218 165 96 42 88 110 94 47 \n",
      "241 175 185 150 64 223 48 193 92 29 254 207 204 181 76 251 109 1 17 54 110 66 102 138 234 254 58 108 159 63 104 209 167 126 221 70 63 58 219 250 \n",
      "245 207 250 122 139 153 126 233 133 156 132 63 171 5 122 131 53 149 42 126 18 23 18 4 44 168 20 188 213 148 68 158 183 50 51 136 96 106 186 43 \n",
      "79 54 50 24 246 243 138 169 51 57 195 205 187 158 236 18 35 235 20 88 22 83 133 61 221 85 96 181 160 83 63 200 27 75 43 126 239 65 162 103 \n",
      "2 135 157 234 12 96 143 142 21 138 95 81 132 190 218 45 32 207 243 69 152 38 137 3 147 127 17 43 63 66 239 56 81 255 131 168 91 69 134 5 \n",
      "25 35 76 124 168 210 109 153 38 216 87 32 203 130 202 241 236 85 191 238 4 190 184 248 102 177 219 221 255 255 124 35 173 205 127 103 110 177 152 174 \n",
      "58 55 168 223 21 41 249 214 147 94 161 95 63 26 1 141 185 24 215 92 154 235 74 218 79 5 52 55 203 40 14 99 236 161 118 74 55 14 240 179 \n",
      "203 110 32 147 211 212 99 112 171 153 223 145 9 229 70 9 81 209 244 219 48 193 124 98 255 247 252 190 82 147 29 159 210 97 181 104 139 215 146 146 \n",
      "212 35 192 82 131 154 113 25 92 181 37 8 64 247 27 138 55 236 100 252 193 130 63 83 237 214 33 211 164 35 23 30 106 115 32 87 92 195 235 26 \n",
      "54 227 4 130 88 244 171 144 124 143 134 244 231 57 184 117 255 119 59 195 103 71 184 152 68 137 168 228 236 223 64 225 61 56 112 54 82 104 110 62 \n",
      "218 53 170 235 90 136 243 35 12 72 236 17 71 54 21 220 245 176 124 29 47 218 3 155 26 121 43 155 34 248 130 203 209 86 201 152 5 199 82 53 \n",
      "59 118 191 246 9 236 240 114 121 187 105 136 123 50 55 100 45 85 234 229 172 188 59 212 142 186 208 178 164 161 55 198 206 45 158 149 122 104 174 200 \n",
      "7 219 91 59 239 7 14 90 55 178 204 130 109 86 232 116 105 163 102 92 57 20 150 110"
     ]
    },
    {
     "name": "stderr",
     "output_type": "stream",
     "text": [
      "IOPub message rate exceeded.\n",
      "The Jupyter server will temporarily stop sending output\n",
      "to the client in order to avoid crashing it.\n",
      "To change this limit, set the config variable\n",
      "`--ServerApp.iopub_msg_rate_limit`.\n",
      "\n",
      "Current values:\n",
      "ServerApp.iopub_msg_rate_limit=1000.0 (msgs/sec)\n",
      "ServerApp.rate_limit_window=3.0 (secs)\n",
      "\n"
     ]
    }
   ],
   "source": [
    "import java.util.Random;\n",
    "\n",
    "//public class Atv04 {\n",
    "    //public static void main(String[] args) {\n",
    "        int[][] imagem = new int[40][40];\n",
    "\n",
    "        Random rand = new Random();\n",
    "\n",
    "        for (int i = 0; i < 40; i++) {\n",
    "            for (int j = 0; j < 40; j++) {\n",
    "                imagem[i][j] = rand.nextInt(256);\n",
    "            }\n",
    "        }\n",
    "\n",
    "        System.out.println(\"Tonalidades aplicadas sobre a imagem:\");\n",
    "        for (int i = 0; i < 40; i++) {\n",
    "            for (int j = 0; j < 40; j++) {\n",
    "                System.out.printf(\"%d \", imagem[i][j]);\n",
    "            }\n",
    "            System.out.println();\n",
    "        }\n",
    "    //}\n",
    "//}\n",
    "\n",
    "//MENSAGEM APÓS EXECUTAR O CÓDIGO:\n",
    "\n",
    "//IOPub message rate exceeded.\n",
    "//The Jupyter server will temporarily stop sending output\n",
    "//to the client in order to avoid crashing it.\n",
    "//To change this limit, set the config variable\n",
    "//`--ServerApp.iopub_msg_rate_limit`.\n",
    "\n",
    "//Current values:\n",
    "//ServerApp.iopub_msg_rate_limit=1000.0 (msgs/sec)\n",
    "//ServerApp.rate_limit_window=3.0 (secs)"
   ]
  },
  {
   "cell_type": "code",
   "execution_count": null,
   "id": "bc6c17c1-1d6f-43b3-ab6a-ab87ac20d0a8",
   "metadata": {},
   "outputs": [],
   "source": []
  }
 ],
 "metadata": {
  "kernelspec": {
   "display_name": "Java",
   "language": "java",
   "name": "java"
  },
  "language_info": {
   "codemirror_mode": "text/x-java",
   "file_extension": ".java",
   "mimetype": "",
   "name": "Java",
   "nbconverter_exporter": "",
   "version": "1.8.0_121"
  }
 },
 "nbformat": 4,
 "nbformat_minor": 5
}
